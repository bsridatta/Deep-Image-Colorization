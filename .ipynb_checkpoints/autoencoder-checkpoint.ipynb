{
 "cells": [
  {
   "cell_type": "markdown",
   "metadata": {},
   "source": [
    "## Autoencoder model "
   ]
  },
  {
   "cell_type": "code",
   "execution_count": 12,
   "metadata": {},
   "outputs": [],
   "source": [
    "from keras.engine import InputLayer\n",
    "from keras.layers import Conv2D, UpSampling2D\n",
    "from keras.models import Sequential\n"
   ]
  },
  {
   "cell_type": "code",
   "execution_count": 20,
   "metadata": {},
   "outputs": [],
   "source": [
    "def encoder():\n",
    "    \"\"\"\n",
    "    Encoder module to get lower level features from the given single channel/luminance \n",
    "    input image\n",
    "    \n",
    "    \"\"\"\n",
    "    model = Sequential(name='encoder')\n",
    "    model.add(InputLayer(input_shape=(None, None, 1))) # Any gray-scale\n",
    "    model.add(Conv2D(64, (3, 3), activation='relu', padding='same', strides=2))\n",
    "    model.add(Conv2D(128, (3, 3), activation='relu', padding='same'))\n",
    "    model.add(Conv2D(128, (3, 3), activation='relu', padding='same', strides=2))\n",
    "    model.add(Conv2D(256, (3, 3), activation='relu', padding='same'))\n",
    "    model.add(Conv2D(256, (3, 3), activation='relu', padding='same', strides=2))\n",
    "    model.add(Conv2D(512, (3, 3), activation='relu', padding='same'))\n",
    "    model.add(Conv2D(512, (3, 3), activation='relu', padding='same'))\n",
    "    model.add(Conv2D(256, (3, 3), activation='relu', padding='same'))\n",
    "    return model"
   ]
  },
  {
   "cell_type": "code",
   "execution_count": 21,
   "metadata": {},
   "outputs": [
    {
     "name": "stdout",
     "output_type": "stream",
     "text": [
      "_________________________________________________________________\n",
      "Layer (type)                 Output Shape              Param #   \n",
      "=================================================================\n",
      "conv2d_25 (Conv2D)           (None, None, None, 64)    640       \n",
      "_________________________________________________________________\n",
      "conv2d_26 (Conv2D)           (None, None, None, 128)   73856     \n",
      "_________________________________________________________________\n",
      "conv2d_27 (Conv2D)           (None, None, None, 128)   147584    \n",
      "_________________________________________________________________\n",
      "conv2d_28 (Conv2D)           (None, None, None, 256)   295168    \n",
      "_________________________________________________________________\n",
      "conv2d_29 (Conv2D)           (None, None, None, 256)   590080    \n",
      "_________________________________________________________________\n",
      "conv2d_30 (Conv2D)           (None, None, None, 512)   1180160   \n",
      "_________________________________________________________________\n",
      "conv2d_31 (Conv2D)           (None, None, None, 512)   2359808   \n",
      "_________________________________________________________________\n",
      "conv2d_32 (Conv2D)           (None, None, None, 256)   1179904   \n",
      "=================================================================\n",
      "Total params: 5,827,200\n",
      "Trainable params: 5,827,200\n",
      "Non-trainable params: 0\n",
      "_________________________________________________________________\n"
     ]
    }
   ],
   "source": [
    "encoder = encoder()\n",
    "encoder.summary()"
   ]
  },
  {
   "cell_type": "code",
   "execution_count": 28,
   "metadata": {},
   "outputs": [],
   "source": [
    "def decoder(fusionLayer_depth):\n",
    "    model = Sequential(name='decoder')\n",
    "    model.add(InputLayer(input_shape=(None, None, fusionLayer_depth)))\n",
    "    model.add(Conv2D(128, (3, 3), activation='relu', padding='same'))\n",
    "    model.add(UpSampling2D((2, 2))) #increase resolution by factor 2\n",
    "    model.add(Conv2D(64, (3, 3), activation='relu', padding='same'))\n",
    "    model.add(Conv2D(64, (3, 3), activation='relu', padding='same'))\n",
    "    model.add(UpSampling2D((2, 2))) #increase resolution by factor 2\n",
    "    model.add(Conv2D(32, (3, 3), activation='relu', padding='same'))\n",
    "    model.add(Conv2D(2, (3, 3), activation='tanh', padding='same'))\n",
    "    model.add(UpSampling2D((2, 2)))\n",
    "    return model"
   ]
  },
  {
   "cell_type": "code",
   "execution_count": 29,
   "metadata": {},
   "outputs": [
    {
     "name": "stdout",
     "output_type": "stream",
     "text": [
      "_________________________________________________________________\n",
      "Layer (type)                 Output Shape              Param #   \n",
      "=================================================================\n",
      "conv2d_38 (Conv2D)           (None, None, None, 128)   1448192   \n",
      "_________________________________________________________________\n",
      "up_sampling2d_4 (UpSampling2 (None, None, None, 128)   0         \n",
      "_________________________________________________________________\n",
      "conv2d_39 (Conv2D)           (None, None, None, 64)    73792     \n",
      "_________________________________________________________________\n",
      "conv2d_40 (Conv2D)           (None, None, None, 64)    36928     \n",
      "_________________________________________________________________\n",
      "up_sampling2d_5 (UpSampling2 (None, None, None, 64)    0         \n",
      "_________________________________________________________________\n",
      "conv2d_41 (Conv2D)           (None, None, None, 32)    18464     \n",
      "_________________________________________________________________\n",
      "conv2d_42 (Conv2D)           (None, None, None, 2)     578       \n",
      "_________________________________________________________________\n",
      "up_sampling2d_6 (UpSampling2 (None, None, None, 2)     0         \n",
      "=================================================================\n",
      "Total params: 1,577,954\n",
      "Trainable params: 1,577,954\n",
      "Non-trainable params: 0\n",
      "_________________________________________________________________\n"
     ]
    }
   ],
   "source": [
    "decoder = decoder(1257)\n",
    "decoder.summary()"
   ]
  },
  {
   "cell_type": "code",
   "execution_count": null,
   "metadata": {},
   "outputs": [],
   "source": [
    "keras.applications.inception_resnet_v2.InceptionResNetV2(include_top=True, weights='imagenet', input_tensor=None, input_shape=None, pooling=None, classes=1000)\n"
   ]
  }
 ],
 "metadata": {
  "kernelspec": {
   "display_name": "Python 3",
   "language": "python",
   "name": "python3"
  },
  "language_info": {
   "codemirror_mode": {
    "name": "ipython",
    "version": 2
   },
   "file_extension": ".py",
   "mimetype": "text/x-python",
   "name": "python",
   "nbconvert_exporter": "python",
   "pygments_lexer": "ipython2",
   "version": "2.7.12"
  }
 },
 "nbformat": 4,
 "nbformat_minor": 2
}
