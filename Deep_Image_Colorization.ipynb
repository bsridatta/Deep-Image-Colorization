{
  "nbformat": 4,
  "nbformat_minor": 0,
  "metadata": {
    "colab": {
      "name": "Deep-Image-Colorization.ipynb",
      "version": "0.3.2",
      "provenance": [],
      "include_colab_link": true
    },
    "kernelspec": {
      "name": "python3",
      "display_name": "Python 3"
    }
  },
  "cells": [
    {
      "cell_type": "markdown",
      "metadata": {
        "id": "view-in-github",
        "colab_type": "text"
      },
      "source": [
        "<a href=\"https://colab.research.google.com/github/bsridatta/Deep-Image-Colorization/blob/master/Deep_Image_Colorization.ipynb\" target=\"_parent\"><img src=\"https://colab.research.google.com/assets/colab-badge.svg\" alt=\"Open In Colab\"/></a>"
      ]
    },
    {
      "cell_type": "code",
      "metadata": {
        "id": "n5Q0HnHkOhM0",
        "colab_type": "code",
        "colab": {}
      },
      "source": [
        "Hi"
      ],
      "execution_count": 0,
      "outputs": []
    },
    {
      "cell_type": "code",
      "metadata": {
        "id": "0kJprnoAVl2C",
        "colab_type": "code",
        "colab": {}
      },
      "source": [
        ""
      ],
      "execution_count": 0,
      "outputs": []
    },
    {
      "cell_type": "markdown",
      "metadata": {
        "id": "JsLFX3MLPXNK",
        "colab_type": "text"
      },
      "source": [
        "**deded**"
      ]
    },
    {
      "cell_type": "markdown",
      "metadata": {
        "id": "5BFCycVnPoFh",
        "colab_type": "text"
      },
      "source": [
        "Datta"
      ]
    },
    {
      "cell_type": "code",
      "metadata": {
        "id": "G3c2jTpUPqqy",
        "colab_type": "code",
        "colab": {}
      },
      "source": [
        ""
      ],
      "execution_count": 0,
      "outputs": []
    }
  ]
}